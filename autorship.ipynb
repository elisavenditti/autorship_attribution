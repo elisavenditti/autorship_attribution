{
 "cells": [
  {
   "attachments": {},
   "cell_type": "markdown",
   "metadata": {},
   "source": [
    "## Progetto Machine Learning: Autorship\n",
    "Scegliamo di usare il kernel offerto da Anaconda perchè, rispetto a quello installato quando scarichiamo direttamente python, \n",
    "ha già tutte le librerie di cui abbiamo bisogno. Premi in alto a destra e seleziona il kernel di Jupyter. Se fai questa print\n",
    "dovrebbe stampare: \"c:\\Users\\Utente\\anaconda3\\python.exe\""
   ]
  },
  {
   "cell_type": "code",
   "execution_count": 6,
   "metadata": {},
   "outputs": [
    {
     "name": "stdout",
     "output_type": "stream",
     "text": [
      "c:\\Users\\Utente\\anaconda3\\python.exe\n"
     ]
    }
   ],
   "source": [
    "import sys\n",
    "print(sys.executable)"
   ]
  },
  {
   "cell_type": "code",
   "execution_count": 7,
   "metadata": {},
   "outputs": [],
   "source": [
    "import matplotlib.pyplot as plt\n",
    "import matplotlib.colors as mcolors\n",
    "import numpy as np\n",
    "\n",
    "plt.style.use('ggplot')\n",
    "plt.rcParams['font.family'] = 'sans-serif'\n",
    "plt.rcParams['font.serif'] = 'Ubuntu'\n",
    "plt.rcParams['font.monospace'] = 'Ubuntu Mono'\n",
    "plt.rcParams['font.size'] = 10\n",
    "plt.rcParams['axes.labelsize'] = 10\n",
    "plt.rcParams['axes.labelweight'] = 'bold'\n",
    "plt.rcParams['axes.titlesize'] = 10\n",
    "plt.rcParams['xtick.labelsize'] = 8\n",
    "plt.rcParams['ytick.labelsize'] = 8\n",
    "plt.rcParams['legend.fontsize'] = 10\n",
    "plt.rcParams['figure.titlesize'] = 12\n",
    "plt.rcParams['image.cmap'] = 'turbo'\n",
    "plt.rcParams['image.interpolation'] = 'none'\n",
    "plt.rcParams['figure.figsize'] = (16, 8)\n",
    "plt.rcParams['lines.linewidth'] = 2\n",
    "plt.rcParams['lines.markersize'] = 8\n",
    "\n",
    "colors = ['#008fd5', '#fc4f30', '#e5ae38', '#6d904f', '#8b8b8b', '#810f7c', \n",
    "'#137e6d', '#be0119', '#3b638c', '#af6f09', '#008fd5', '#fc4f30', '#e5ae38', '#6d904f', '#8b8b8b', \n",
    "'#810f7c', '#137e6d', '#be0119', '#3b638c', '#af6f09']\n",
    "\n",
    "cmap = mcolors.LinearSegmentedColormap.from_list(\"\", [\"#82cafc\", \"#069af3\", \"#0485d1\", colors[0], colors[8]])\n"
   ]
  },
  {
   "attachments": {},
   "cell_type": "markdown",
   "metadata": {},
   "source": [
    "Prendiamo i dati dal CSV. Memorizziamo il training set in un dizionario python in modo da semplificarne la manipolazione: ogni autore ha il suo corpus associato."
   ]
  },
  {
   "cell_type": "code",
   "execution_count": 8,
   "metadata": {},
   "outputs": [
    {
     "name": "stdout",
     "output_type": "stream",
     "text": [
      "Dataset di training:\n",
      "                                                text  author\n",
      "0  ou have time to listen i will give you the ent...       1\n",
      "1  wish for solitude he was twenty years of age a...       1\n",
      "2  and the skirt blew in perfect freedom about th...       1\n",
      "3  of san and the rows of shops opposite impresse...       1\n",
      "4  an hour s walk was as tiresome as three in a s...       1\n",
      "\n",
      "Classi presenti nel training set  : [1, 2, 3, 4, 6, 8, 9, 10, 11, 12, 13, 14, 15, 16, 17, 18, 19, 20, 21, 22, 23, 24, 25, 26, 27, 28, 29, 30, 32, 33, 34, 35, 36, 37, 38, 39, 40, 41, 42, 43, 44, 45, 46, 48, 50]\n",
      "Classi normalizzate               : [1, 2, 3, 4, 5, 6, 7, 8, 9, 10, 11, 12, 13, 14, 15, 16, 17, 18, 19, 20, 21, 22, 23, 24, 25, 26, 27, 28, 29, 30, 31, 32, 33, 34, 35, 36, 37, 38, 39, 40, 41, 42, 43, 44, 45]\n",
      "Numero di classi nel training set : 45\n"
     ]
    }
   ],
   "source": [
    "import pandas as pd\n",
    "\n",
    "file_training   = \"C:\\\\Users\\\\Utente\\\\Desktop\\\\ML\\\\materiale\\\\Gungor_2018_VictorianAuthorAttribution_data-train.csv\"\n",
    "file_test       = \"C:\\\\Users\\\\Utente\\\\Desktop\\\\ML\\\\materiale\\\\Gungor_2018_VictorianAuthorAttribution_data.csv\"\n",
    "\n",
    "\n",
    "df = pd.read_csv(file_training, delimiter=',',  encoding='latin-1')\n",
    "print(\"Dataset di training:\\n{}\\n\".format(df.head()))\n",
    "\n",
    "\n",
    "classes      = [x for x in df['author'].unique()]\n",
    "authors      = len(classes)\n",
    "classes_norm = [x for x in range (1,authors+1)]\n",
    "\n",
    "\n",
    "# creazione di training e test set\n",
    "test_dim      = 100\n",
    "dft           = df.sample(test_dim)\n",
    "df            = df.drop(dft.index)\n",
    "global_corpus = df['text'].to_numpy()\n",
    "# items         = len(global_corpus)\n",
    "\n",
    "\n",
    "print(\"Classi presenti nel training set  : {}\".format(classes))\n",
    "print(\"Classi normalizzate               : {}\".format(classes_norm))\n",
    "print(\"Numero di classi nel training set : {}\".format(authors))"
   ]
  },
  {
   "cell_type": "code",
   "execution_count": 9,
   "metadata": {},
   "outputs": [
    {
     "data": {
      "image/png": "[encoded data removed]",
      "text/plain": [
       "<Figure size 1600x800 with 1 Axes>"
      ]
     },
     "metadata": {},
     "output_type": "display_data"
    }
   ],
   "source": [
    "# Istogramma\n",
    "\n",
    "authors_array = df['author'].to_numpy()\n",
    "plt.hist(authors_array, bins=authors, color='midnightblue')\n",
    "plt.xlabel('Autori', fontsize=12)\n",
    "plt.ylabel('Frequenza',fontsize=12)\n",
    "plt.title('Numero di testi per ogni autore')\n",
    "plt.show()"
   ]
  },
  {
   "attachments": {},
   "cell_type": "markdown",
   "metadata": {},
   "source": [
    "# Preprocessamento dei dati\n",
    "per la rappresentazione VETTORIALE dei testi. I corpus vengono lemmatizzati per raggruppare parole semanticamente equivalenti. Infine viene creato il modello di linguaggio per ogni classe (autore) che, in questo modo, viene descritta da un vettore di occorrenze di termini."
   ]
  },
  {
   "cell_type": "code",
   "execution_count": 10,
   "metadata": {},
   "outputs": [
    {
     "name": "stdout",
     "output_type": "stream",
     "text": [
      "(53578, 8428)\n"
     ]
    }
   ],
   "source": [
    "# import nltk\n",
    "# nltk.download('wordnet')\n",
    "# nltk.download('omw-1.4')\n",
    "from nltk.stem import WordNetLemmatizer\n",
    "from sklearn.feature_extraction.text import CountVectorizer\n",
    "\n",
    "\n",
    "# Funzione per la lemmatizzazione di un testo in formato stringa\n",
    "\n",
    "def lemmatize_text(text, lemmatizer):\n",
    "    tokens = text.split()\n",
    "    lemmatized_tokens = [lemmatizer.lemmatize(token) for token in tokens]\n",
    "    return ' '.join(lemmatized_tokens)\n",
    "\n",
    "\n",
    "\n",
    "# Creazione della distribuzione delle parole per i vari autori\n",
    "\n",
    "lemmatizer = WordNetLemmatizer()\n",
    "vectorizer = CountVectorizer(stop_words='english', lowercase=True)\n",
    "\n",
    "\n",
    "lemmatized_data      = [lemmatize_text(text, lemmatizer) for text in global_corpus]\n",
    "lemmatized_data_test = [lemmatize_text(text, lemmatizer) for text in dft['text'].to_numpy()]\n",
    "\n",
    "X_train = vectorizer.fit_transform(lemmatized_data)\n",
    "y_train = df.author\n",
    "X_test  = vectorizer.transform(lemmatized_data_test)\n",
    "y_test  = dft.author\n",
    "\n",
    "print(X_train.shape)  "
   ]
  },
  {
   "attachments": {},
   "cell_type": "markdown",
   "metadata": {},
   "source": [
    "# NAIVE BAYES"
   ]
  },
  {
   "cell_type": "code",
   "execution_count": 11,
   "metadata": {},
   "outputs": [
    {
     "data": {
      "text/plain": [
       "MultinomialNB(alpha=1e-09)"
      ]
     },
     "execution_count": 11,
     "metadata": {},
     "output_type": "execute_result"
    }
   ],
   "source": [
    "from sklearn.metrics import accuracy_score\n",
    "from sklearn.naive_bayes import MultinomialNB\n",
    "\n",
    "clf = MultinomialNB(alpha=1.0e-9)\n",
    "clf.fit(X_train, y_train.ravel())"
   ]
  },
  {
   "attachments": {},
   "cell_type": "markdown",
   "metadata": {},
   "source": [
    "Grafici per Prior $p(C_i)$, Likelihood $p(t_j|C_i)$, Evidenza $p(t_j)$ e Posterior $p(C_i|t_j)$"
   ]
  },
  {
   "cell_type": "code",
   "execution_count": 12,
   "metadata": {},
   "outputs": [
    {
     "name": "stdout",
     "output_type": "stream",
     "text": [
      "(45, 8428)\n",
      "(8428,)\n"
     ]
    }
   ],
   "source": [
    "# distribuzione a priori e likelihood p(t_j|C_i)\n",
    "prior=np.exp(clf.class_log_prior_)\n",
    "lik=np.exp(clf.feature_log_prob_)\n",
    "\n",
    "# calcolo dell'evidenza\n",
    "def sumAllClasses(t_i):\n",
    "    sum = 0\n",
    "    for c_k in range(0,authors):\n",
    "        sum += lik[c_k,t_i]*prior[c_k]\n",
    "    return sum\n",
    "\n",
    "evid=np.array(\n",
    "    [sumAllClasses(term_i) for term_i in range(lik.shape[1])]\n",
    "    )\n",
    "print(lik.shape)\n",
    "print(evid.shape)\n",
    "\n",
    "# da graficare, da calcolare posterior\n"
   ]
  },
  {
   "attachments": {},
   "cell_type": "markdown",
   "metadata": {},
   "source": [
    "Calcolo dell'accuracy sul test set, ho fatto un plot di prova, può essere tolto che non ha molto senso"
   ]
  },
  {
   "cell_type": "code",
   "execution_count": 13,
   "metadata": {},
   "outputs": [
    {
     "name": "stdout",
     "output_type": "stream",
     "text": [
      "Accuracy = 0.8500000\n"
     ]
    },
    {
     "data": {
      "image/png": "[encoded data removed]",
      "text/plain": [
       "<Figure size 1600x800 with 1 Axes>"
      ]
     },
     "metadata": {},
     "output_type": "display_data"
    }
   ],
   "source": [
    "preds = clf.predict(X_test)\n",
    "print('Accuracy = {0:8.7f}'.format(accuracy_score(y_test, preds)))\n",
    "\n",
    "alphas = [1.0e-9, 1.0e-8, 1.0e-7, 1.0e-6, 1.0e-5, 1.0e-4, 1.0e-3, 1.0e-2, 1.0e-1, 1.0]\n",
    "train_errs = []\n",
    "test_errs = []\n",
    "for a in alphas:\n",
    "    clf = MultinomialNB(alpha=a)\n",
    "    clf.fit(X_train, y_train.ravel())\n",
    "    preds_train = clf.predict(X_train)\n",
    "    preds_test  = clf.predict(X_test)\n",
    "    train_errs.append(accuracy_score(y_train, preds_train))\n",
    "    test_errs.append(accuracy_score(y_test, preds_test))\n",
    "\n",
    "fig = plt.figure(figsize=(16,8))\n",
    "ax = fig.gca()\n",
    "plt.tick_params(axis='both', which='major', labelsize=8)\n",
    "ax.plot(alphas, train_errs, '-o', color=colors[0], markersize=8, alpha=.7, label='train')\n",
    "ax.plot(alphas, test_errs, '-o', color=colors[1], markersize=8, alpha=.7, label='test')\n",
    "plt.legend(fontsize=10)\n",
    "plt.xlabel('$alpha$', fontsize=12)\n",
    "plt.ylabel('Accuracy', fontsize=12)\n",
    "plt.xscale(\"log\")\n",
    "plt.show()"
   ]
  },
  {
   "attachments": {},
   "cell_type": "markdown",
   "metadata": {},
   "source": [
    "# KNN"
   ]
  },
  {
   "cell_type": "code",
   "execution_count": 2,
   "metadata": {},
   "outputs": [
    {
     "name": "stdout",
     "output_type": "stream",
     "text": [
      "def cross_validate(\n",
      "    estimator,\n",
      "    X,\n",
      "    y=None,\n",
      "    *,\n",
      "    groups=None,\n",
      "    scoring=None,\n",
      "    cv=None,\n",
      "    n_jobs=None,\n",
      "    verbose=0,\n",
      "    fit_params=None,\n",
      "    pre_dispatch=\"2*n_jobs\",\n",
      "    return_train_score=False,\n",
      "    return_estimator=False,\n",
      "    error_score=np.nan,\n",
      "):\n",
      "    \"\"\"Evaluate metric(s) by cross-validation and also record fit/score times.\n",
      "\n",
      "    Read more in the :ref:`User Guide <multimetric_cross_validation>`.\n",
      "\n",
      "    Parameters\n",
      "    ----------\n",
      "    estimator : estimator object implementing 'fit'\n",
      "        The object to use to fit the data.\n",
      "\n",
      "    X : array-like of shape (n_samples, n_features)\n",
      "        The data to fit. Can be for example a list, or an array.\n",
      "\n",
      "    y : array-like of shape (n_samples,) or (n_samples, n_outputs), \\\n",
      "            default=None\n",
      "        The target variable to try to predict in the case of\n",
      "        supervised learning.\n",
      "\n",
      "    groups : array-like of shape (n_samples,), default=None\n",
      "        Group labels for the samples used while splitting the dataset into\n",
      "        train/test set. Only used in conjunction with a \"Group\" :term:`cv`\n",
      "        instance (e.g., :class:`GroupKFold`).\n",
      "\n",
      "    scoring : str, callable, list, tuple, or dict, default=None\n",
      "        Strategy to evaluate the performance of the cross-validated model on\n",
      "        the test set.\n",
      "\n",
      "        If `scoring` represents a single score, one can use:\n",
      "\n",
      "        - a single string (see :ref:`scoring_parameter`);\n",
      "        - a callable (see :ref:`scoring`) that returns a single value.\n",
      "\n",
      "        If `scoring` represents multiple scores, one can use:\n",
      "\n",
      "        - a list or tuple of unique strings;\n",
      "        - a callable returning a dictionary where the keys are the metric\n",
      "          names and the values are the metric scores;\n",
      "        - a dictionary with metric names as keys and callables a values.\n",
      "\n",
      "        See :ref:`multimetric_grid_search` for an example.\n",
      "\n",
      "    cv : int, cross-validation generator or an iterable, default=None\n",
      "        Determines the cross-validation splitting strategy.\n",
      "        Possible inputs for cv are:\n",
      "\n",
      "        - None, to use the default 5-fold cross validation,\n",
      "        - int, to specify the number of folds in a `(Stratified)KFold`,\n",
      "        - :term:`CV splitter`,\n",
      "        - An iterable yielding (train, test) splits as arrays of indices.\n",
      "\n",
      "        For int/None inputs, if the estimator is a classifier and ``y`` is\n",
      "        either binary or multiclass, :class:`StratifiedKFold` is used. In all\n",
      "        other cases, :class:`.Fold` is used. These splitters are instantiated\n",
      "        with `shuffle=False` so the splits will be the same across calls.\n",
      "\n",
      "        Refer :ref:`User Guide <cross_validation>` for the various\n",
      "        cross-validation strategies that can be used here.\n",
      "\n",
      "        .. versionchanged:: 0.22\n",
      "            ``cv`` default value if None changed from 3-fold to 5-fold.\n",
      "\n",
      "    n_jobs : int, default=None\n",
      "        Number of jobs to run in parallel. Training the estimator and computing\n",
      "        the score are parallelized over the cross-validation splits.\n",
      "        ``None`` means 1 unless in a :obj:`joblib.parallel_backend` context.\n",
      "        ``-1`` means using all processors. See :term:`Glossary <n_jobs>`\n",
      "        for more details.\n",
      "\n",
      "    verbose : int, default=0\n",
      "        The verbosity level.\n",
      "\n",
      "    fit_params : dict, default=None\n",
      "        Parameters to pass to the fit method of the estimator.\n",
      "\n",
      "    pre_dispatch : int or str, default='2*n_jobs'\n",
      "        Controls the number of jobs that get dispatched during parallel\n",
      "        execution. Reducing this number can be useful to avoid an\n",
      "        explosion of memory consumption when more jobs get dispatched\n",
      "        than CPUs can process. This parameter can be:\n",
      "\n",
      "            - None, in which case all the jobs are immediately\n",
      "              created and spawned. Use this for lightweight and\n",
      "              fast-running jobs, to avoid delays due to on-demand\n",
      "              spawning of the jobs\n",
      "\n",
      "            - An int, giving the exact number of total jobs that are\n",
      "              spawned\n",
      "\n",
      "            - A str, giving an expression as a function of n_jobs,\n",
      "              as in '2*n_jobs'\n",
      "\n",
      "    return_train_score : bool, default=False\n",
      "        Whether to include train scores.\n",
      "        Computing training scores is used to get insights on how different\n",
      "        parameter settings impact the overfitting/underfitting trade-off.\n",
      "        However computing the scores on the training set can be computationally\n",
      "        expensive and is not strictly required to select the parameters that\n",
      "        yield the best generalization performance.\n",
      "\n",
      "        .. versionadded:: 0.19\n",
      "\n",
      "        .. versionchanged:: 0.21\n",
      "            Default value was changed from ``True`` to ``False``\n",
      "\n",
      "    return_estimator : bool, default=False\n",
      "        Whether to return the estimators fitted on each split.\n",
      "\n",
      "        .. versionadded:: 0.20\n",
      "\n",
      "    error_score : 'raise' or numeric, default=np.nan\n",
      "        Value to assign to the score if an error occurs in estimator fitting.\n",
      "        If set to 'raise', the error is raised.\n",
      "        If a numeric value is given, FitFailedWarning is raised.\n",
      "\n",
      "        .. versionadded:: 0.20\n",
      "\n",
      "    Returns\n",
      "    -------\n",
      "    scores : dict of float arrays of shape (n_splits,)\n",
      "        Array of scores of the estimator for each run of the cross validation.\n",
      "\n",
      "        A dict of arrays containing the score/time arrays for each scorer is\n",
      "        returned. The possible keys for this ``dict`` are:\n",
      "\n",
      "            ``test_score``\n",
      "                The score array for test scores on each cv split.\n",
      "                Suffix ``_score`` in ``test_score`` changes to a specific\n",
      "                metric like ``test_r2`` or ``test_auc`` if there are\n",
      "                multiple scoring metrics in the scoring parameter.\n",
      "            ``train_score``\n",
      "                The score array for train scores on each cv split.\n",
      "                Suffix ``_score`` in ``train_score`` changes to a specific\n",
      "                metric like ``train_r2`` or ``train_auc`` if there are\n",
      "                multiple scoring metrics in the scoring parameter.\n",
      "                This is available only if ``return_train_score`` parameter\n",
      "                is ``True``.\n",
      "            ``fit_time``\n",
      "                The time for fitting the estimator on the train\n",
      "                set for each cv split.\n",
      "            ``score_time``\n",
      "                The time for scoring the estimator on the test set for each\n",
      "                cv split. (Note time for scoring on the train set is not\n",
      "                included even if ``return_train_score`` is set to ``True``\n",
      "            ``estimator``\n",
      "                The estimator objects for each cv split.\n",
      "                This is available only if ``return_estimator`` parameter\n",
      "                is set to ``True``.\n",
      "\n",
      "    Examples\n",
      "    --------\n",
      "    >>> from sklearn import datasets, linear_model\n",
      "    >>> from sklearn.model_selection import cross_validate\n",
      "    >>> from sklearn.metrics import make_scorer\n",
      "    >>> from sklearn.metrics import confusion_matrix\n",
      "    >>> from sklearn.svm import LinearSVC\n",
      "    >>> diabetes = datasets.load_diabetes()\n",
      "    >>> X = diabetes.data[:150]\n",
      "    >>> y = diabetes.target[:150]\n",
      "    >>> lasso = linear_model.Lasso()\n",
      "\n",
      "    Single metric evaluation using ``cross_validate``\n",
      "\n",
      "    >>> cv_results = cross_validate(lasso, X, y, cv=3)\n",
      "    >>> sorted(cv_results.keys())\n",
      "    ['fit_time', 'score_time', 'test_score']\n",
      "    >>> cv_results['test_score']\n",
      "    array([0.33150734, 0.08022311, 0.03531764])\n",
      "\n",
      "    Multiple metric evaluation using ``cross_validate``\n",
      "    (please refer the ``scoring`` parameter doc for more information)\n",
      "\n",
      "    >>> scores = cross_validate(lasso, X, y, cv=3,\n",
      "    ...                         scoring=('r2', 'neg_mean_squared_error'),\n",
      "    ...                         return_train_score=True)\n",
      "    >>> print(scores['test_neg_mean_squared_error'])\n",
      "    [-3635.5... -3573.3... -6114.7...]\n",
      "    >>> print(scores['train_r2'])\n",
      "    [0.28010158 0.39088426 0.22784852]\n",
      "\n",
      "    See Also\n",
      "    ---------\n",
      "    cross_val_score : Run cross-validation for single metric evaluation.\n",
      "\n",
      "    cross_val_predict : Get predictions from each split of cross-validation for\n",
      "        diagnostic purposes.\n",
      "\n",
      "    sklearn.metrics.make_scorer : Make a scorer from a performance metric or\n",
      "        loss function.\n",
      "\n",
      "    \"\"\"\n",
      "    X, y, groups = indexable(X, y, groups)\n",
      "\n",
      "    cv = check_cv(cv, y, classifier=is_classifier(estimator))\n",
      "\n",
      "    if callable(scoring):\n",
      "        scorers = scoring\n",
      "    elif scoring is None or isinstance(scoring, str):\n",
      "        scorers = check_scoring(estimator, scoring)\n",
      "    else:\n",
      "        scorers = _check_multimetric_scoring(estimator, scoring)\n",
      "\n",
      "    # We clone the estimator to make sure that all the folds are\n",
      "    # independent, and that it is pickle-able.\n",
      "    parallel = Parallel(n_jobs=n_jobs, verbose=verbose, pre_dispatch=pre_dispatch)\n",
      "    results = parallel(\n",
      "        delayed(_fit_and_score)(\n",
      "            clone(estimator),\n",
      "            X,\n",
      "            y,\n",
      "            scorers,\n",
      "            train,\n",
      "            test,\n",
      "            verbose,\n",
      "            None,\n",
      "            fit_params,\n",
      "            return_train_score=return_train_score,\n",
      "            return_times=True,\n",
      "            return_estimator=return_estimator,\n",
      "            error_score=error_score,\n",
      "        )\n",
      "        for train, test in cv.split(X, y, groups)\n",
      "    )\n",
      "\n",
      "    _warn_about_fit_failures(results, error_score)\n",
      "\n",
      "    # For callabe scoring, the return type is only know after calling. If the\n",
      "    # return type is a dictionary, the error scores can now be inserted with\n",
      "    # the correct key.\n",
      "    if callable(scoring):\n",
      "        _insert_error_scores(results, error_score)\n",
      "\n",
      "    results = _aggregate_score_dicts(results)\n",
      "\n",
      "    ret = {}\n",
      "    ret[\"fit_time\"] = results[\"fit_time\"]\n",
      "    ret[\"score_time\"] = results[\"score_time\"]\n",
      "\n",
      "    if return_estimator:\n",
      "        ret[\"estimator\"] = results[\"estimator\"]\n",
      "\n",
      "    test_scores_dict = _normalize_score_results(results[\"test_scores\"])\n",
      "    if return_train_score:\n",
      "        train_scores_dict = _normalize_score_results(results[\"train_scores\"])\n",
      "\n",
      "    for name in test_scores_dict:\n",
      "        ret[\"test_%s\" % name] = test_scores_dict[name]\n",
      "        if return_train_score:\n",
      "            key = \"train_%s\" % name\n",
      "            ret[key] = train_scores_dict[name]\n",
      "\n",
      "    return ret\n",
      "\n"
     ]
    }
   ],
   "source": [
    "from sklearn.model_selection import cross_val_score\n",
    "import inspect\n",
    "\n",
    "\n",
    "# Ottenere il codice della funzione my_function\n",
    "codice = inspect.getsource(cross_val_score)\n",
    "\n",
    "# Stampa il codice\n",
    "print(codice)"
   ]
  }
 ],
 "metadata": {
  "kernelspec": {
   "display_name": "Python 3 (ipykernel)",
   "language": "python",
   "name": "python3"
  },
  "language_info": {
   "codemirror_mode": {
    "name": "ipython",
    "version": 3
   },
   "file_extension": ".py",
   "mimetype": "text/x-python",
   "name": "python",
   "nbconvert_exporter": "python",
   "pygments_lexer": "ipython3",
   "version": "3.9.13"
  }
 },
 "nbformat": 4,
 "nbformat_minor": 2
}
